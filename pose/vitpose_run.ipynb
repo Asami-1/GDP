{
 "cells": [
  {
   "cell_type": "code",
   "execution_count": 1,
   "metadata": {},
   "outputs": [
    {
     "name": "stdout",
     "output_type": "stream",
     "text": [
      "Python 3.7.2\n"
     ]
    }
   ],
   "source": [
    "# MY SYSTEM\n",
    "!py --version"
   ]
  },
  {
   "cell_type": "code",
   "execution_count": 2,
   "metadata": {},
   "outputs": [
    {
     "name": "stdout",
     "output_type": "stream",
     "text": [
      "nvcc: NVIDIA (R) Cuda compiler driver\n",
      "Copyright (c) 2005-2022 NVIDIA Corporation\n",
      "Built on Tue_May__3_19:00:59_Pacific_Daylight_Time_2022\n",
      "Cuda compilation tools, release 11.7, V11.7.64\n",
      "Build cuda_11.7.r11.7/compiler.31294372_0\n"
     ]
    }
   ],
   "source": [
    "!nvcc --version"
   ]
  },
  {
   "cell_type": "code",
   "execution_count": 3,
   "metadata": {},
   "outputs": [
    {
     "data": {
      "text/plain": [
       "True"
      ]
     },
     "execution_count": 3,
     "metadata": {},
     "output_type": "execute_result"
    }
   ],
   "source": [
    "import torch\n",
    "torch.cuda.is_available()"
   ]
  },
  {
   "cell_type": "code",
   "execution_count": 4,
   "metadata": {},
   "outputs": [
    {
     "data": {
      "text/plain": [
       "'1.13.1+cu117'"
      ]
     },
     "execution_count": 4,
     "metadata": {},
     "output_type": "execute_result"
    }
   ],
   "source": [
    "torch.__version__"
   ]
  },
  {
   "cell_type": "code",
   "execution_count": 3,
   "metadata": {},
   "outputs": [
    {
     "name": "stdout",
     "output_type": "stream",
     "text": [
      "C:\\Users\\Ivan Lopez\\Desktop\\GDP\\VITPOSE\\mmcv\n"
     ]
    },
    {
     "name": "stderr",
     "output_type": "stream",
     "text": [
      "Cloning into 'mmcv'...\n",
      "Note: switching to 'v1.3.9'.\n",
      "\n",
      "You are in 'detached HEAD' state. You can look around, make experimental\n",
      "changes and commit them, and you can discard any commits you make in this\n",
      "state without impacting any branches by switching back to a branch.\n",
      "\n",
      "If you want to create a new branch to retain commits you create, you may\n",
      "do so (now or later) by using -c with the switch command. Example:\n",
      "\n",
      "  git switch -c <new-branch-name>\n",
      "\n",
      "Or undo this operation with:\n",
      "\n",
      "  git switch -\n",
      "\n",
      "Turn off this advice by setting config variable advice.detachedHead to false\n",
      "\n",
      "HEAD is now at 96c4b70 bump version to v1.3.9 (#1188)\n"
     ]
    },
    {
     "name": "stdout",
     "output_type": "stream",
     "text": [
      "Obtaining file:///C:/Users/Ivan%20Lopez/Desktop/GDP/VITPOSE/mmcv\n",
      "  Preparing metadata (setup.py): started\n",
      "  Preparing metadata (setup.py): finished with status 'done'\n",
      "Collecting addict\n",
      "  Downloading addict-2.4.0-py3-none-any.whl (3.8 kB)\n",
      "Requirement already satisfied: numpy in c:\\users\\ivan lopez\\appdata\\local\\packages\\pythonsoftwarefoundation.python.3.10_qbz5n2kfra8p0\\localcache\\local-packages\\python310\\site-packages (from mmcv==1.3.9) (1.23.1)\n",
      "Requirement already satisfied: Pillow in c:\\users\\ivan lopez\\appdata\\local\\packages\\pythonsoftwarefoundation.python.3.10_qbz5n2kfra8p0\\localcache\\local-packages\\python310\\site-packages (from mmcv==1.3.9) (9.4.0)\n",
      "Requirement already satisfied: pyyaml in c:\\users\\ivan lopez\\appdata\\local\\packages\\pythonsoftwarefoundation.python.3.10_qbz5n2kfra8p0\\localcache\\local-packages\\python310\\site-packages (from mmcv==1.3.9) (6.0)\n",
      "Collecting yapf\n",
      "  Downloading yapf-0.32.0-py2.py3-none-any.whl (190 kB)\n",
      "     -------------------------------------- 190.2/190.2 kB 5.6 MB/s eta 0:00:00\n",
      "Collecting regex\n",
      "  Using cached regex-2022.10.31-cp310-cp310-win_amd64.whl (267 kB)\n",
      "Installing collected packages: yapf, addict, regex, mmcv\n",
      "  Running setup.py develop for mmcv\n",
      "Successfully installed addict-2.4.0 mmcv-1.3.9 regex-2022.10.31 yapf-0.32.0\n",
      "C:\\Users\\Ivan Lopez\\Desktop\\GDP\\VITPOSE\n"
     ]
    },
    {
     "name": "stderr",
     "output_type": "stream",
     "text": [
      "  WARNING: The scripts yapf-diff.exe and yapf.exe are installed in 'C:\\Users\\Ivan Lopez\\AppData\\Local\\Packages\\PythonSoftwareFoundation.Python.3.10_qbz5n2kfra8p0\\LocalCache\\local-packages\\Python310\\Scripts' which is not on PATH.\n",
      "  Consider adding this directory to PATH or, if you prefer to suppress this warning, use --no-warn-script-location.\n"
     ]
    },
    {
     "name": "stdout",
     "output_type": "stream",
     "text": [
      "C:\\Users\\Ivan Lopez\\Desktop\\GDP\\VITPOSE\\ViTPose\n"
     ]
    },
    {
     "name": "stderr",
     "output_type": "stream",
     "text": [
      "Cloning into 'ViTPose'...\n"
     ]
    },
    {
     "name": "stdout",
     "output_type": "stream",
     "text": [
      "Using pip 23.0.1 from C:\\Users\\Ivan Lopez\\AppData\\Local\\Packages\\PythonSoftwareFoundation.Python.3.10_qbz5n2kfra8p0\\LocalCache\\local-packages\\Python310\\site-packages\\pip (python 3.10)\n",
      "Obtaining file:///C:/Users/Ivan%20Lopez/Desktop/GDP/VITPOSE/ViTPose\n",
      "  Preparing metadata (setup.py): started\n",
      "  Preparing metadata (setup.py): finished with status 'done'\n",
      "Collecting chumpy\n",
      "  Downloading chumpy-0.70.tar.gz (50 kB)\n",
      "     ---------------------------------------- 50.6/50.6 kB 2.7 MB/s eta 0:00:00\n",
      "  Preparing metadata (setup.py): started\n",
      "  Preparing metadata (setup.py): finished with status 'done'\n",
      "Collecting json_tricks\n",
      "  Downloading json_tricks-3.16.1-py2.py3-none-any.whl (27 kB)\n",
      "Requirement already satisfied: matplotlib in c:\\users\\ivan lopez\\appdata\\local\\packages\\pythonsoftwarefoundation.python.3.10_qbz5n2kfra8p0\\localcache\\local-packages\\python310\\site-packages (from mmpose==0.24.0) (3.7.0)\n",
      "Collecting munkres\n",
      "  Downloading munkres-1.1.4-py2.py3-none-any.whl (7.0 kB)\n",
      "Requirement already satisfied: numpy in c:\\users\\ivan lopez\\appdata\\local\\packages\\pythonsoftwarefoundation.python.3.10_qbz5n2kfra8p0\\localcache\\local-packages\\python310\\site-packages (from mmpose==0.24.0) (1.23.1)\n",
      "Requirement already satisfied: opencv-python in c:\\users\\ivan lopez\\appdata\\local\\packages\\pythonsoftwarefoundation.python.3.10_qbz5n2kfra8p0\\localcache\\local-packages\\python310\\site-packages (from mmpose==0.24.0) (4.7.0.68)\n",
      "Requirement already satisfied: pillow in c:\\users\\ivan lopez\\appdata\\local\\packages\\pythonsoftwarefoundation.python.3.10_qbz5n2kfra8p0\\localcache\\local-packages\\python310\\site-packages (from mmpose==0.24.0) (9.4.0)\n",
      "Requirement already satisfied: scipy in c:\\users\\ivan lopez\\appdata\\local\\packages\\pythonsoftwarefoundation.python.3.10_qbz5n2kfra8p0\\localcache\\local-packages\\python310\\site-packages (from mmpose==0.24.0) (1.10.1)\n",
      "Requirement already satisfied: torchvision in c:\\users\\ivan lopez\\appdata\\local\\packages\\pythonsoftwarefoundation.python.3.10_qbz5n2kfra8p0\\localcache\\local-packages\\python310\\site-packages (from mmpose==0.24.0) (0.14.1)\n",
      "Collecting xtcocotools>=1.8\n",
      "  Downloading xtcocotools-1.13-cp310-cp310-win_amd64.whl (79 kB)\n",
      "     ---------------------------------------- 79.2/79.2 kB 4.6 MB/s eta 0:00:00\n",
      "Collecting cython>=0.27.3\n",
      "  Downloading Cython-0.29.33-py2.py3-none-any.whl (987 kB)\n",
      "     ------------------------------------- 987.3/987.3 kB 12.4 MB/s eta 0:00:00\n",
      "Requirement already satisfied: setuptools>=18.0 in c:\\users\\ivan lopez\\appdata\\local\\packages\\pythonsoftwarefoundation.python.3.10_qbz5n2kfra8p0\\localcache\\local-packages\\python310\\site-packages (from xtcocotools>=1.8->mmpose==0.24.0) (67.4.0)\n",
      "Requirement already satisfied: kiwisolver>=1.0.1 in c:\\users\\ivan lopez\\appdata\\local\\packages\\pythonsoftwarefoundation.python.3.10_qbz5n2kfra8p0\\localcache\\local-packages\\python310\\site-packages (from matplotlib->mmpose==0.24.0) (1.4.4)\n",
      "Requirement already satisfied: contourpy>=1.0.1 in c:\\users\\ivan lopez\\appdata\\local\\packages\\pythonsoftwarefoundation.python.3.10_qbz5n2kfra8p0\\localcache\\local-packages\\python310\\site-packages (from matplotlib->mmpose==0.24.0) (1.0.7)\n",
      "Requirement already satisfied: cycler>=0.10 in c:\\users\\ivan lopez\\appdata\\local\\packages\\pythonsoftwarefoundation.python.3.10_qbz5n2kfra8p0\\localcache\\local-packages\\python310\\site-packages (from matplotlib->mmpose==0.24.0) (0.11.0)\n",
      "Requirement already satisfied: packaging>=20.0 in c:\\users\\ivan lopez\\appdata\\local\\packages\\pythonsoftwarefoundation.python.3.10_qbz5n2kfra8p0\\localcache\\local-packages\\python310\\site-packages (from matplotlib->mmpose==0.24.0) (23.0)\n",
      "Requirement already satisfied: fonttools>=4.22.0 in c:\\users\\ivan lopez\\appdata\\local\\packages\\pythonsoftwarefoundation.python.3.10_qbz5n2kfra8p0\\localcache\\local-packages\\python310\\site-packages (from matplotlib->mmpose==0.24.0) (4.38.0)\n",
      "Requirement already satisfied: pyparsing>=2.3.1 in c:\\users\\ivan lopez\\appdata\\local\\packages\\pythonsoftwarefoundation.python.3.10_qbz5n2kfra8p0\\localcache\\local-packages\\python310\\site-packages (from matplotlib->mmpose==0.24.0) (3.0.9)\n",
      "Requirement already satisfied: python-dateutil>=2.7 in c:\\users\\ivan lopez\\appdata\\local\\packages\\pythonsoftwarefoundation.python.3.10_qbz5n2kfra8p0\\localcache\\local-packages\\python310\\site-packages (from matplotlib->mmpose==0.24.0) (2.8.2)\n",
      "Requirement already satisfied: six>=1.11.0 in c:\\users\\ivan lopez\\appdata\\local\\packages\\pythonsoftwarefoundation.python.3.10_qbz5n2kfra8p0\\localcache\\local-packages\\python310\\site-packages (from chumpy->mmpose==0.24.0) (1.16.0)\n",
      "Requirement already satisfied: typing-extensions in c:\\users\\ivan lopez\\appdata\\local\\packages\\pythonsoftwarefoundation.python.3.10_qbz5n2kfra8p0\\localcache\\local-packages\\python310\\site-packages (from torchvision->mmpose==0.24.0) (4.5.0)\n",
      "Requirement already satisfied: requests in c:\\users\\ivan lopez\\appdata\\local\\packages\\pythonsoftwarefoundation.python.3.10_qbz5n2kfra8p0\\localcache\\local-packages\\python310\\site-packages (from torchvision->mmpose==0.24.0) (2.28.2)\n",
      "Requirement already satisfied: torch==1.13.1 in c:\\users\\ivan lopez\\appdata\\local\\packages\\pythonsoftwarefoundation.python.3.10_qbz5n2kfra8p0\\localcache\\local-packages\\python310\\site-packages (from torchvision->mmpose==0.24.0) (1.13.1)\n",
      "Requirement already satisfied: certifi>=2017.4.17 in c:\\users\\ivan lopez\\appdata\\local\\packages\\pythonsoftwarefoundation.python.3.10_qbz5n2kfra8p0\\localcache\\local-packages\\python310\\site-packages (from requests->torchvision->mmpose==0.24.0) (2022.12.7)\n",
      "Requirement already satisfied: idna<4,>=2.5 in c:\\users\\ivan lopez\\appdata\\local\\packages\\pythonsoftwarefoundation.python.3.10_qbz5n2kfra8p0\\localcache\\local-packages\\python310\\site-packages (from requests->torchvision->mmpose==0.24.0) (3.4)\n",
      "Requirement already satisfied: urllib3<1.27,>=1.21.1 in c:\\users\\ivan lopez\\appdata\\local\\packages\\pythonsoftwarefoundation.python.3.10_qbz5n2kfra8p0\\localcache\\local-packages\\python310\\site-packages (from requests->torchvision->mmpose==0.24.0) (1.26.14)\n",
      "Requirement already satisfied: charset-normalizer<4,>=2 in c:\\users\\ivan lopez\\appdata\\local\\packages\\pythonsoftwarefoundation.python.3.10_qbz5n2kfra8p0\\localcache\\local-packages\\python310\\site-packages (from requests->torchvision->mmpose==0.24.0) (3.0.1)\n",
      "Building wheels for collected packages: chumpy\n",
      "  Building wheel for chumpy (setup.py): started\n",
      "  Building wheel for chumpy (setup.py): finished with status 'done'\n",
      "  Created wheel for chumpy: filename=chumpy-0.70-py3-none-any.whl size=58274 sha256=bf3810ee5d2a714e3fa6266c3d77144e7e27c6502a076897ddea471ab053c93c\n",
      "  Stored in directory: c:\\users\\ivan lopez\\appdata\\local\\pip\\cache\\wheels\\e0\\c1\\ef\\29ba7be03653a29ef6f2c3e1956d6c4d8877f2b243af411db1\n",
      "Successfully built chumpy\n",
      "Installing collected packages: munkres, json_tricks, cython, chumpy, xtcocotools, mmpose\n",
      "  Running setup.py develop for mmpose\n",
      "Successfully installed chumpy-0.70 cython-0.29.33 json_tricks-3.16.1 mmpose-0.24.0 munkres-1.1.4 xtcocotools-1.13\n"
     ]
    },
    {
     "name": "stderr",
     "output_type": "stream",
     "text": [
      "  Running command python setup.py egg_info\n",
      "  running egg_info\n",
      "  creating C:\\Users\\Ivan Lopez\\AppData\\Local\\Temp\\pip-pip-egg-info-unyfeh6x\\mmpose.egg-info\n",
      "  writing C:\\Users\\Ivan Lopez\\AppData\\Local\\Temp\\pip-pip-egg-info-unyfeh6x\\mmpose.egg-info\\PKG-INFO\n",
      "  writing dependency_links to C:\\Users\\Ivan Lopez\\AppData\\Local\\Temp\\pip-pip-egg-info-unyfeh6x\\mmpose.egg-info\\dependency_links.txt\n",
      "  writing requirements to C:\\Users\\Ivan Lopez\\AppData\\Local\\Temp\\pip-pip-egg-info-unyfeh6x\\mmpose.egg-info\\requires.txt\n",
      "  writing top-level names to C:\\Users\\Ivan Lopez\\AppData\\Local\\Temp\\pip-pip-egg-info-unyfeh6x\\mmpose.egg-info\\top_level.txt\n",
      "  writing manifest file 'C:\\Users\\Ivan Lopez\\AppData\\Local\\Temp\\pip-pip-egg-info-unyfeh6x\\mmpose.egg-info\\SOURCES.txt'\n",
      "  reading manifest file 'C:\\Users\\Ivan Lopez\\AppData\\Local\\Temp\\pip-pip-egg-info-unyfeh6x\\mmpose.egg-info\\SOURCES.txt'\n",
      "  reading manifest template 'MANIFEST.in'\n",
      "  warning: no files found matching 'mmpose\\.mim\\model-index.yml'\n",
      "  warning: no files found matching '*.py' under directory 'mmpose\\.mim\\configs'\n",
      "  warning: no files found matching '*.yml' under directory 'mmpose\\.mim\\configs'\n",
      "  warning: no files found matching '*.py' under directory 'mmpose\\.mim\\tools'\n",
      "  warning: no files found matching '*.sh' under directory 'mmpose\\.mim\\tools'\n",
      "  warning: no files found matching '*.py' under directory 'mmpose\\.mim\\demo'\n",
      "  adding license file 'LICENSE'\n",
      "  writing manifest file 'C:\\Users\\Ivan Lopez\\AppData\\Local\\Temp\\pip-pip-egg-info-unyfeh6x\\mmpose.egg-info\\SOURCES.txt'\n",
      "  Running command python setup.py egg_info\n",
      "  Running command python setup.py bdist_wheel\n",
      "  C:\\Users\\Ivan Lopez\\AppData\\Local\\Packages\\PythonSoftwareFoundation.Python.3.10_qbz5n2kfra8p0\\LocalCache\\local-packages\\Python310\\site-packages\\setuptools\\command\\install.py:34: SetuptoolsDeprecationWarning: setup.py install is deprecated. Use build and pip and other standards-based tools.\n",
      "    warnings.warn(\n",
      "  WARNING: The scripts cygdb.exe, cython.exe and cythonize.exe are installed in 'C:\\Users\\Ivan Lopez\\AppData\\Local\\Packages\\PythonSoftwareFoundation.Python.3.10_qbz5n2kfra8p0\\LocalCache\\local-packages\\Python310\\Scripts' which is not on PATH.\n",
      "  Consider adding this directory to PATH or, if you prefer to suppress this warning, use --no-warn-script-location.\n",
      "    Running command python setup.py develop\n",
      "    running develop\n",
      "    C:\\Users\\Ivan Lopez\\AppData\\Local\\Packages\\PythonSoftwareFoundation.Python.3.10_qbz5n2kfra8p0\\LocalCache\\local-packages\\Python310\\site-packages\\setuptools\\command\\easy_install.py:144: EasyInstallDeprecationWarning: easy_install command is deprecated. Use build and pip and other standards-based tools.\n",
      "      warnings.warn(\n",
      "    C:\\Users\\Ivan Lopez\\AppData\\Local\\Packages\\PythonSoftwareFoundation.Python.3.10_qbz5n2kfra8p0\\LocalCache\\local-packages\\Python310\\site-packages\\setuptools\\command\\install.py:34: SetuptoolsDeprecationWarning: setup.py install is deprecated. Use build and pip and other standards-based tools.\n",
      "      warnings.warn(\n",
      "    running egg_info\n",
      "    creating mmpose.egg-info\n",
      "    writing mmpose.egg-info\\PKG-INFO\n",
      "    writing dependency_links to mmpose.egg-info\\dependency_links.txt\n",
      "    writing requirements to mmpose.egg-info\\requires.txt\n",
      "    writing top-level names to mmpose.egg-info\\top_level.txt\n",
      "    writing manifest file 'mmpose.egg-info\\SOURCES.txt'\n",
      "    reading manifest file 'mmpose.egg-info\\SOURCES.txt'\n",
      "    reading manifest template 'MANIFEST.in'\n",
      "    adding license file 'LICENSE'\n",
      "    writing manifest file 'mmpose.egg-info\\SOURCES.txt'\n",
      "    running build_ext\n",
      "    Creating c:\\users\\ivan lopez\\appdata\\local\\packages\\pythonsoftwarefoundation.python.3.10_qbz5n2kfra8p0\\localcache\\local-packages\\python310\\site-packages\\mmpose.egg-link (link to .)\n",
      "    Adding mmpose 0.24.0 to easy-install.pth file\n",
      "\n",
      "    Installed c:\\users\\ivan lopez\\desktop\\gdp\\vitpose\\vitpose\n"
     ]
    }
   ],
   "source": [
    "# Clonning githubs and installing requirements\n",
    "!git clone https://github.com/open-mmlab/mmcv.git\n",
    "%cd mmcv\n",
    "!git checkout v1.3.9\n",
    "MMCV_WITH_OPS=1 \n",
    "!pip install -e .\n",
    "%cd ..\n",
    "!git clone https://github.com/ViTAE-Transformer/ViTPose.git\n",
    "%cd ViTPose\n",
    "!pip install -v -e ."
   ]
  },
  {
   "cell_type": "code",
   "execution_count": 4,
   "metadata": {
    "scrolled": true
   },
   "outputs": [
    {
     "name": "stdout",
     "output_type": "stream",
     "text": [
      "Collecting timm==0.4.9\n",
      "  Downloading timm-0.4.9-py3-none-any.whl (346 kB)\n",
      "     -------------------------------------- 346.1/346.1 kB 7.1 MB/s eta 0:00:00\n",
      "Collecting einops\n",
      "  Downloading einops-0.6.0-py3-none-any.whl (41 kB)\n",
      "     ---------------------------------------- 41.6/41.6 kB 2.0 MB/s eta 0:00:00\n",
      "Requirement already satisfied: torchvision in c:\\users\\ivan lopez\\appdata\\local\\packages\\pythonsoftwarefoundation.python.3.10_qbz5n2kfra8p0\\localcache\\local-packages\\python310\\site-packages (from timm==0.4.9) (0.14.1)\n",
      "Requirement already satisfied: torch>=1.4 in c:\\users\\ivan lopez\\appdata\\local\\packages\\pythonsoftwarefoundation.python.3.10_qbz5n2kfra8p0\\localcache\\local-packages\\python310\\site-packages (from timm==0.4.9) (1.13.1)\n",
      "Requirement already satisfied: typing-extensions in c:\\users\\ivan lopez\\appdata\\local\\packages\\pythonsoftwarefoundation.python.3.10_qbz5n2kfra8p0\\localcache\\local-packages\\python310\\site-packages (from torch>=1.4->timm==0.4.9) (4.5.0)\n",
      "Requirement already satisfied: numpy in c:\\users\\ivan lopez\\appdata\\local\\packages\\pythonsoftwarefoundation.python.3.10_qbz5n2kfra8p0\\localcache\\local-packages\\python310\\site-packages (from torchvision->timm==0.4.9) (1.23.1)\n",
      "Requirement already satisfied: pillow!=8.3.*,>=5.3.0 in c:\\users\\ivan lopez\\appdata\\local\\packages\\pythonsoftwarefoundation.python.3.10_qbz5n2kfra8p0\\localcache\\local-packages\\python310\\site-packages (from torchvision->timm==0.4.9) (9.4.0)\n",
      "Requirement already satisfied: requests in c:\\users\\ivan lopez\\appdata\\local\\packages\\pythonsoftwarefoundation.python.3.10_qbz5n2kfra8p0\\localcache\\local-packages\\python310\\site-packages (from torchvision->timm==0.4.9) (2.28.2)\n",
      "Requirement already satisfied: certifi>=2017.4.17 in c:\\users\\ivan lopez\\appdata\\local\\packages\\pythonsoftwarefoundation.python.3.10_qbz5n2kfra8p0\\localcache\\local-packages\\python310\\site-packages (from requests->torchvision->timm==0.4.9) (2022.12.7)\n",
      "Requirement already satisfied: idna<4,>=2.5 in c:\\users\\ivan lopez\\appdata\\local\\packages\\pythonsoftwarefoundation.python.3.10_qbz5n2kfra8p0\\localcache\\local-packages\\python310\\site-packages (from requests->torchvision->timm==0.4.9) (3.4)\n",
      "Requirement already satisfied: urllib3<1.27,>=1.21.1 in c:\\users\\ivan lopez\\appdata\\local\\packages\\pythonsoftwarefoundation.python.3.10_qbz5n2kfra8p0\\localcache\\local-packages\\python310\\site-packages (from requests->torchvision->timm==0.4.9) (1.26.14)\n",
      "Requirement already satisfied: charset-normalizer<4,>=2 in c:\\users\\ivan lopez\\appdata\\local\\packages\\pythonsoftwarefoundation.python.3.10_qbz5n2kfra8p0\\localcache\\local-packages\\python310\\site-packages (from requests->torchvision->timm==0.4.9) (3.0.1)\n",
      "Installing collected packages: einops, timm\n",
      "Successfully installed einops-0.6.0 timm-0.4.9\n"
     ]
    }
   ],
   "source": [
    "!pip install timm==0.4.9 einops"
   ]
  },
  {
   "cell_type": "code",
   "execution_count": null,
   "metadata": {},
   "outputs": [
    {
     "name": "stdout",
     "output_type": "stream",
     "text": [
      "^C\n"
     ]
    }
   ],
   "source": [
    "!py -m pip uninstall mmcv\n",
    "!py -m pip uninstall mmcv-full\n",
    "!py -m pip install mmcv-full==1.5.0 "
   ]
  },
  {
   "cell_type": "code",
   "execution_count": null,
   "metadata": {},
   "outputs": [],
   "source": [
    "!py -m pip uninstall mmpose\n",
    "import sys\n",
    "sys.path.insert(0, 'ViTPose/')"
   ]
  },
  {
   "cell_type": "code",
   "execution_count": 42,
   "metadata": {},
   "outputs": [],
   "source": [
    "from mmdet.apis import inference_detector, init_detector\n",
    "from mmpose.apis import (inference_top_down_pose_model, init_pose_model,\n",
    "                         process_mmdet_results, vis_pose_result,\n",
    "                         get_track_id,vis_pose_tracking_result)"
   ]
  },
  {
   "cell_type": "code",
   "execution_count": 7,
   "metadata": {},
   "outputs": [],
   "source": [
    "from mmdet.apis import inference_detector, init_detector"
   ]
  },
  {
   "cell_type": "code",
   "execution_count": 8,
   "metadata": {},
   "outputs": [
    {
     "name": "stdout",
     "output_type": "stream",
     "text": [
      "C:\\Users\\Ivan Lopez\n",
      "C:\\Users\\Ivan Lopez\\desktop\\gdp\\vitpose\\vitpose\n"
     ]
    }
   ],
   "source": [
    "%cd\n",
    "%cd desktop/gdp/vitpose/vitpose"
   ]
  },
  {
   "cell_type": "code",
   "execution_count": 63,
   "metadata": {},
   "outputs": [
    {
     "name": "stdout",
     "output_type": "stream",
     "text": [
      "load checkpoint from http path: https://download.openmmlab.com/mmdetection/v2.0/faster_rcnn/faster_rcnn_r50_fpn_1x_coco/faster_rcnn_r50_fpn_1x_coco_20200130-047c8118.pth\n"
     ]
    }
   ],
   "source": [
    "# Initialize detection model\n",
    "det_config=r\"demo/mmdetection_cfg/faster_rcnn_r50_fpn_coco.py\"\n",
    "det_checkpoint=r\"https://download.openmmlab.com/mmdetection/v2.0/faster_rcnn/faster_rcnn_r50_fpn_1x_coco/faster_rcnn_r50_fpn_1x_coco_20200130-047c8118.pth\"\n",
    "\n",
    "det_model = init_detector(det_config, det_checkpoint, device='cuda:0')"
   ]
  },
  {
   "cell_type": "code",
   "execution_count": 64,
   "metadata": {},
   "outputs": [],
   "source": [
    "# This images are placed in folder Vitpose but a Dataset folder could be created moving forward\n",
    "image=r\"000001.png\"\n",
    "image2=r\"000002.png\"\n",
    "\n",
    "mmdet_results = inference_detector(det_model, image)\n",
    "\n",
    "person_results = process_mmdet_results(mmdet_results, 1)\n",
    "\n",
    "mmdet_results2 = inference_detector(det_model, image2)\n",
    "\n",
    "person_results2 = process_mmdet_results(mmdet_results2, 1)"
   ]
  },
  {
   "cell_type": "code",
   "execution_count": 67,
   "metadata": {
    "collapsed": true
   },
   "outputs": [
    {
     "name": "stdout",
     "output_type": "stream",
     "text": [
      "load checkpoint from local path: .\\weights\\vitpose_base_coco_aic_mpii.pth\n",
      "The model and loaded state dict do not match exactly\n",
      "\n",
      "unexpected key in source state_dict: associate_keypoint_heads.0.deconv_layers.0.weight, associate_keypoint_heads.0.deconv_layers.1.weight, associate_keypoint_heads.0.deconv_layers.1.bias, associate_keypoint_heads.0.deconv_layers.1.running_mean, associate_keypoint_heads.0.deconv_layers.1.running_var, associate_keypoint_heads.0.deconv_layers.1.num_batches_tracked, associate_keypoint_heads.0.deconv_layers.3.weight, associate_keypoint_heads.0.deconv_layers.4.weight, associate_keypoint_heads.0.deconv_layers.4.bias, associate_keypoint_heads.0.deconv_layers.4.running_mean, associate_keypoint_heads.0.deconv_layers.4.running_var, associate_keypoint_heads.0.deconv_layers.4.num_batches_tracked, associate_keypoint_heads.0.final_layer.weight, associate_keypoint_heads.0.final_layer.bias, associate_keypoint_heads.1.deconv_layers.0.weight, associate_keypoint_heads.1.deconv_layers.1.weight, associate_keypoint_heads.1.deconv_layers.1.bias, associate_keypoint_heads.1.deconv_layers.1.running_mean, associate_keypoint_heads.1.deconv_layers.1.running_var, associate_keypoint_heads.1.deconv_layers.1.num_batches_tracked, associate_keypoint_heads.1.deconv_layers.3.weight, associate_keypoint_heads.1.deconv_layers.4.weight, associate_keypoint_heads.1.deconv_layers.4.bias, associate_keypoint_heads.1.deconv_layers.4.running_mean, associate_keypoint_heads.1.deconv_layers.4.running_var, associate_keypoint_heads.1.deconv_layers.4.num_batches_tracked, associate_keypoint_heads.1.final_layer.weight, associate_keypoint_heads.1.final_layer.bias, backbone.cls_token\n",
      "\n"
     ]
    }
   ],
   "source": [
    "# Initialize pose detection model\n",
    "pose_config=r\".\\configs\\body\\2d_kpt_sview_rgb_img\\topdown_heatmap\\coco\\ViTPose_base_coco_256x192.py\"\n",
    "\n",
    "# Download from github the vitpose model and place it in a folder in \"VitPose/weights\". Used base but ideally try huge or compare between different models\n",
    "pose_checkpoint= r\".\\weights\\vitpose_base_coco_aic_mpii.pth\"\n",
    "\n",
    "model=init_pose_model(pose_config, pose_checkpoint, device='cuda:0')\n"
   ]
  },
  {
   "cell_type": "code",
   "execution_count": 98,
   "metadata": {},
   "outputs": [],
   "source": [
    "# Inference in pose detection\n",
    "out0=[]\n",
    "out1=[]\n",
    "out0, _ = inference_top_down_pose_model(model,image,person_results,bbox_thr=0.3,format='xyxy')\n",
    "out1, _ = inference_top_down_pose_model(model,image2,person_results2,bbox_thr=0.3,format='xyxy')"
   ]
  },
  {
   "cell_type": "code",
   "execution_count": 99,
   "metadata": {},
   "outputs": [],
   "source": [
    "#vis_pose_result(model,image,out0,show=True) # Uncomment to visualize bbox in image"
   ]
  },
  {
   "cell_type": "code",
   "execution_count": 100,
   "metadata": {},
   "outputs": [],
   "source": [
    "# Initialize \"track_id\"s in the first frame\n",
    "out0[0][\"track_id\"] = 1\n",
    "out0[1][\"track_id\"] = 2"
   ]
  },
  {
   "cell_type": "code",
   "execution_count": 101,
   "metadata": {},
   "outputs": [],
   "source": [
    "# Changing order of boxes in second frame to test inference_tracking\n",
    "aux_out1=[]\n",
    "aux_out1.append(out1[1])\n",
    "aux_out1.append(out1[0])\n",
    "out1=aux_out1"
   ]
  },
  {
   "cell_type": "code",
   "execution_count": 102,
   "metadata": {},
   "outputs": [
    {
     "data": {
      "text/plain": [
       "([{'bbox': array([169.1969   ,  72.15995  , 259.82202  , 277.63934  ,   0.9978331],\n",
       "         dtype=float32),\n",
       "   'keypoints': array([[229.25433   ,  94.21681   ,   0.94516754],\n",
       "          [229.19522   ,  89.8445    ,   0.90177274],\n",
       "          [226.87833   ,  89.85954   ,   0.9065715 ],\n",
       "          [218.3966    ,  90.31665   ,   0.7080159 ],\n",
       "          [217.75143   ,  90.77075   ,   0.90937716],\n",
       "          [210.97626   , 107.47029   ,   0.79971206],\n",
       "          [203.41019   , 108.183304  ,   0.9205785 ],\n",
       "          [225.44476   , 126.2545    ,   0.46503073],\n",
       "          [229.71622   , 127.528     ,   0.9327882 ],\n",
       "          [232.57639   , 112.02968   ,   0.5884089 ],\n",
       "          [236.55713   , 106.97096   ,   0.85269517],\n",
       "          [210.1796    , 170.00926   ,   0.78889513],\n",
       "          [195.45422   , 168.66588   ,   0.84161943],\n",
       "          [226.93951   , 210.70049   ,   0.8812983 ],\n",
       "          [196.54608   , 211.79247   ,   0.8374078 ],\n",
       "          [233.80136   , 259.33966   ,   0.9065592 ],\n",
       "          [173.61734   , 253.688     ,   0.6444789 ]], dtype=float32),\n",
       "   'area': 18621.596,\n",
       "   'track_id': 2},\n",
       "  {'bbox': array([327.3204    ,  62.71853   , 410.4264    , 279.3005    ,\n",
       "            0.99851876], dtype=float32),\n",
       "   'keypoints': array([[344.01855   ,  84.473404  ,   0.9177151 ],\n",
       "          [348.09122   ,  80.526505  ,   0.8897716 ],\n",
       "          [344.52527   ,  80.450424  ,   0.8911457 ],\n",
       "          [359.3373    ,  82.76593   ,   0.92643046],\n",
       "          [350.0176    ,  83.48776   ,   0.73288333],\n",
       "          [378.41245   , 105.10367   ,   0.92162323],\n",
       "          [346.1101    , 104.87889   ,   0.93492365],\n",
       "          [388.41235   , 140.70543   ,   0.9244081 ],\n",
       "          [346.21075   , 137.87617   ,   0.9066421 ],\n",
       "          [377.35175   , 165.41994   ,   0.88992906],\n",
       "          [340.79898   , 161.78044   ,   0.8988997 ],\n",
       "          [380.6113    , 175.64256   ,   0.81551707],\n",
       "          [357.00314   , 175.79472   ,   0.83423686],\n",
       "          [387.60806   , 223.54204   ,   0.8629124 ],\n",
       "          [349.75766   , 220.07768   ,   0.8812705 ],\n",
       "          [395.459     , 267.87726   ,   0.85166764],\n",
       "          [345.7822    , 263.42432   ,   0.94276416]], dtype=float32),\n",
       "   'area': 17999.258,\n",
       "   'track_id': 1}],\n",
       " -1)"
      ]
     },
     "execution_count": 102,
     "metadata": {},
     "output_type": "execute_result"
    }
   ],
   "source": [
    "# Compute tracking from previous and current frame\n",
    "get_track_id(out1,out0,-1,min_keypoints=3,use_oks=False,tracking_thr=0.3,use_one_euro=False,fps=None)"
   ]
  },
  {
   "cell_type": "code",
   "execution_count": 97,
   "metadata": {},
   "outputs": [
    {
     "data": {
      "text/plain": [
       "[{'bbox': array([169.1969   ,  72.15995  , 259.82202  , 277.63934  ,   0.9978331],\n",
       "        dtype=float32),\n",
       "  'keypoints': array([[229.25433   ,  94.21681   ,   0.94516754],\n",
       "         [229.19522   ,  89.8445    ,   0.90177274],\n",
       "         [226.87833   ,  89.85954   ,   0.9065715 ],\n",
       "         [218.3966    ,  90.31665   ,   0.7080159 ],\n",
       "         [217.75143   ,  90.77075   ,   0.90937716],\n",
       "         [210.97626   , 107.47029   ,   0.799712  ],\n",
       "         [203.41019   , 108.183304  ,   0.9205785 ],\n",
       "         [225.44476   , 126.2545    ,   0.46503073],\n",
       "         [229.71622   , 127.528     ,   0.93278813],\n",
       "         [232.57639   , 112.02968   ,   0.5884089 ],\n",
       "         [236.55713   , 106.97096   ,   0.85269517],\n",
       "         [210.17963   , 170.00926   ,   0.78889513],\n",
       "         [195.45422   , 168.66588   ,   0.84161943],\n",
       "         [226.93951   , 210.70049   ,   0.8812983 ],\n",
       "         [196.54608   , 211.79247   ,   0.8374078 ],\n",
       "         [233.80136   , 259.33966   ,   0.9065592 ],\n",
       "         [173.61734   , 253.688     ,   0.6444789 ]], dtype=float32),\n",
       "  'area': 18621.596,\n",
       "  'track_id': 2},\n",
       " {'bbox': array([327.3204    ,  62.71853   , 410.4264    , 279.3005    ,\n",
       "           0.99851876], dtype=float32),\n",
       "  'keypoints': array([[344.01852   ,  84.473404  ,   0.9177151 ],\n",
       "         [348.09122   ,  80.526505  ,   0.8897716 ],\n",
       "         [344.52527   ,  80.450424  ,   0.8911457 ],\n",
       "         [359.3373    ,  82.76593   ,   0.92643046],\n",
       "         [350.0176    ,  83.48776   ,   0.7328834 ],\n",
       "         [378.41245   , 105.10367   ,   0.92162323],\n",
       "         [346.1101    , 104.87889   ,   0.93492365],\n",
       "         [388.41235   , 140.70543   ,   0.92440814],\n",
       "         [346.21075   , 137.87617   ,   0.9066421 ],\n",
       "         [377.35175   , 165.41994   ,   0.88992906],\n",
       "         [340.79898   , 161.78044   ,   0.8988997 ],\n",
       "         [380.6113    , 175.64256   ,   0.81551707],\n",
       "         [357.00314   , 175.79472   ,   0.83423686],\n",
       "         [387.60806   , 223.54204   ,   0.8629124 ],\n",
       "         [349.75766   , 220.07768   ,   0.88127065],\n",
       "         [395.459     , 267.87726   ,   0.85166764],\n",
       "         [345.7822    , 263.42432   ,   0.94276416]], dtype=float32),\n",
       "  'area': 17999.258,\n",
       "  'track_id': 1}]"
      ]
     },
     "execution_count": 97,
     "metadata": {},
     "output_type": "execute_result"
    }
   ],
   "source": [
    "out1"
   ]
  },
  {
   "cell_type": "code",
   "execution_count": null,
   "metadata": {},
   "outputs": [],
   "source": []
  }
 ],
 "metadata": {
  "colab": {
   "authorship_tag": "ABX9TyPnK4PHqqeP0DpN41KNEZA3",
   "mount_file_id": "1gauGdHHCErH4ao0JyWAKbzDDCKAWDFfS",
   "provenance": []
  },
  "kernelspec": {
   "display_name": "Python 3 (ipykernel)",
   "language": "python",
   "name": "python3"
  },
  "language_info": {
   "codemirror_mode": {
    "name": "ipython",
    "version": 3
   },
   "file_extension": ".py",
   "mimetype": "text/x-python",
   "name": "python",
   "nbconvert_exporter": "python",
   "pygments_lexer": "ipython3",
   "version": "3.7.2"
  }
 },
 "nbformat": 4,
 "nbformat_minor": 1
}
